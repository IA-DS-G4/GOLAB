{
 "metadata": {
  "kernelspec": {
   "name": "python3",
   "language": "python",
   "display_name": "Python 3 (ipykernel)"
  },
  "language_info": {
   "codemirror_mode": {
    "name": "python",
    "version": 3
   },
   "file_extension": ".py",
   "mimetype": "text/x-python",
   "name": "python",
   "nbconvert_exporter": "python",
   "pygments_lexer": "ipython3",
   "version": "3.8"
  }
 },
 "nbformat_minor": 4,
 "nbformat": 4,
 "cells": [
  {
   "cell_type": "code",
   "source": [
    "import socket\n",
    "import random\n",
    "import time\n",
    "\n",
    "Game=\"A4x4\" # \"A6x6\" \"G7x7\" \"G9x9\" \"A5x5\"\n",
    "\n",
    "def generate_random_move():\n",
    "    x = random.randint(0, 9)\n",
    "    y = random.randint(0, 9)\n",
    "    return f\"MOVE {x},{y}\"\n",
    "\n",
    "def generate_random_move2():\n",
    "    x = random.randint(0, 9)\n",
    "    y = random.randint(0, 9)\n",
    "    x2 = random.randint(0, 9)\n",
    "    y2 = random.randint(0, 9)\n",
    "    return f\"MOVE {x},{y},{x2},{y2}\"\n",
    "\n",
    "def connect_to_server(host='localhost', port=12345):\n",
    "    client_socket = socket.socket(socket.AF_INET, socket.SOCK_STREAM)\n",
    "    client_socket.connect((host, port))\n",
    "    \n",
    "    response = client_socket.recv(1024).decode()\n",
    "    print(f\"Server ResponseINIT: {response}\")\n",
    "    \n",
    "    Game = response[-4:]\n",
    "    print(\"Playing:\", Game)\n",
    "    \n",
    "    if \"1\" in response:\n",
    "        ag=1\n",
    "    else:\n",
    "        ag=2\n",
    "    first=True\n",
    "    \n",
    "    while True:\n",
    "        # Generate and send a random move\n",
    "        \n",
    "        if ag == 1 or not first:\n",
    "            move = generate_random_move2()\n",
    "            time.sleep(1)\n",
    "            client_socket.send(move.encode())\n",
    "            print(\"Send:\",move)\n",
    "        \n",
    "            # Wait for server response\n",
    "            response = client_socket.recv(1024).decode()\n",
    "            print(f\"Server Response1: {response}\")\n",
    "            if \"END\" in response: break\n",
    "         \n",
    "        first=False\n",
    "        response = client_socket.recv(1024).decode()\n",
    "        print(f\"Server Response2: {response}\")\n",
    "        if \"END\" in response: break\n",
    "\n",
    "        # Add some condition to break the loop, if necessary\n",
    "        # Example: If server sends a certain message, or after a number of moves\n",
    "\n",
    "    client_socket.close()\n",
    "\n",
    "if __name__ == \"__main__\":\n",
    "    connect_to_server()\n"
   ],
   "metadata": {
    "trusted": true,
    "ExecuteTime": {
     "end_time": "2024-01-11T18:36:03.954993100Z",
     "start_time": "2024-01-11T18:35:54.929037700Z"
    }
   },
   "outputs": [
    {
     "name": "stdout",
     "output_type": "stream",
     "text": [
      "Server ResponseINIT: AG2 A4x4\n",
      "Playing: A4x4\n",
      "Server Response2: MOVE 5,0,3,5\n",
      "Send: MOVE 2,5,1,6\n",
      "Server Response1: VALID\n",
      "Server Response2: MOVE 7,8,7,8\n",
      "Send: MOVE 2,9,0,4\n",
      "Server Response1: VALID\n",
      "Server Response2: MOVE 2,9,1,3\n",
      "Send: MOVE 9,4,2,8\n",
      "Server Response1: VALID\n",
      "Server Response2: MOVE 9,6,8,4\n",
      "Send: MOVE 9,8,1,6\n",
      "Server Response1: VALID\n",
      "Server Response2: MOVE 2,6,5,6\n",
      "Send: MOVE 7,2,8,6\n",
      "Server Response1: END 0 10 10\n"
     ]
    }
   ],
   "execution_count": 1
  },
  {
   "cell_type": "code",
   "source": [],
   "metadata": {
    "trusted": true
   },
   "outputs": [],
   "execution_count": null
  }
 ]
}
