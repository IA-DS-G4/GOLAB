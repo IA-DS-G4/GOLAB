{
 "metadata": {
  "kernelspec": {
   "name": "python3",
   "language": "python",
   "display_name": "Python 3 (ipykernel)"
  },
  "language_info": {
   "codemirror_mode": {
    "name": "python",
    "version": 3
   },
   "file_extension": ".py",
   "mimetype": "text/x-python",
   "name": "python",
   "nbconvert_exporter": "python",
   "pygments_lexer": "ipython3",
   "version": "3.8"
  }
 },
 "nbformat_minor": 4,
 "nbformat": 4,
 "cells": [
  {
   "cell_type": "code",
   "source": [
    "import socket\n",
    "import time\n",
    "\n",
    "Game=\"A4x4\" # \"A6x6\" \"G7x7\" \"G9x9\" \"A5x5\"\n",
    "\n",
    "def start_server(host='localhost', port=12345):\n",
    "    server_socket = socket.socket(socket.AF_INET, socket.SOCK_STREAM)\n",
    "    server_socket.bind((host, port))\n",
    "    server_socket.listen(2)\n",
    "\n",
    "    print(\"Waiting for two agents to connect...\")\n",
    "    agent1, addr1 = server_socket.accept()\n",
    "    print(\"Agent 1 connected from\", addr1)\n",
    "    bs=b'AG1 '+Game.encode()\n",
    "    agent1.sendall(bs)\n",
    "\n",
    "    agent2, addr2 = server_socket.accept()\n",
    "    print(\"Agent 2 connected from\", addr2)\n",
    "    bs=b'AG2 '+Game.encode()\n",
    "    agent2.sendall(bs)    \n",
    "\n",
    "    agents = [agent1, agent2]\n",
    "    current_agent = 0\n",
    "\n",
    "    jog=0\n",
    "    \n",
    "    while True:\n",
    "        try:\n",
    "            data = agents[current_agent].recv(1024).decode()\n",
    "            if not data:\n",
    "                break\n",
    "\n",
    "            # Process the move (example: \"MOVE X,Y\")\n",
    "            print(current_agent, \" -> \",data)\n",
    "            jog = jog+1\n",
    "            \n",
    "            if jog==10: \n",
    "                agents[current_agent].sendall(b'END 0 10 10')\n",
    "                agents[1-current_agent].sendall(b'END 0 10 10')\n",
    "                break\n",
    "            \n",
    "            if is_valid_move(data):\n",
    "                agents[current_agent].sendall(b'VALID')\n",
    "                agents[1-current_agent].sendall(data.encode())\n",
    "            else:\n",
    "                agents[current_agent].sendall(b'INVALID')\n",
    "\n",
    "            # Switch to the other agent\n",
    "            current_agent = 1-current_agent\n",
    "            time.sleep(1)\n",
    "\n",
    "        except Exception as e:\n",
    "            print(\"Error:\", e)\n",
    "            break\n",
    "\n",
    "    print(\"\\n-----------------\\nGAME END\\n-----------------\\n\")\n",
    "    time.sleep(1)\n",
    "    agent1.close()\n",
    "    agent2.close()\n",
    "    server_socket.close()\n",
    "\n",
    "def is_valid_move(move):\n",
    "    # Implement the logic to check if the move is valid\n",
    "    return True\n",
    "\n",
    "if __name__ == \"__main__\":\n",
    "    start_server()\n"
   ],
   "metadata": {
    "trusted": true,
    "is_executing": true
   },
   "outputs": [],
   "execution_count": null
  },
  {
   "cell_type": "code",
   "source": [],
   "metadata": {
    "trusted": true
   },
   "outputs": [],
   "execution_count": null
  },
  {
   "cell_type": "code",
   "source": [],
   "metadata": {
    "trusted": true
   },
   "outputs": [],
   "execution_count": null
  }
 ]
}
